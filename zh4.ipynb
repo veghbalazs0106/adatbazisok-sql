{
    "metadata": {
        "kernelspec": {
            "name": "SQL",
            "display_name": "SQL",
            "language": "sql"
        },
        "language_info": {
            "name": "sql",
            "version": ""
        }
    },
    "nbformat_minor": 2,
    "nbformat": 4,
    "cells": [
        {
            "cell_type": "code",
            "source": [
                "--ELSO FELADAT\r\n",
                "--Jelenítsük meg minden egyes szoba esetén, hogy hányszor foglalták le!\r\n",
                "\r\n",
                "--Csak a szoba azonosítója és a foglalások darabszáma jelenjen meg\r\n",
                "--Azok a szobák is jelenjenek meg, ahol nem történt foglalás\r\n",
                "\r\n",
                "\r\n",
                "SELECT sz.SZOBA_ID,\r\n",
                "        IIF(COUNT(*) = 0, 'Nem volt foglalas', COUNT(*)) AS 'Db'\r\n",
                "FROM Foglalas f JOIN Szoba sz ON f.SZOBA_FK = sz.SZOBA_ID \r\n",
                "GROUP BY sz.SZOBA_ID"
            ],
            "metadata": {
                "azdata_cell_guid": "de949997-7aac-4650-b44e-5bbaff8135d6",
                "language": "sql"
            },
            "outputs": [
                {
                    "output_type": "display_data",
                    "data": {
                        "text/html": "(197 rows affected)"
                    },
                    "metadata": {}
                },
                {
                    "output_type": "display_data",
                    "data": {
                        "text/html": "Total execution time: 00:00:00.047"
                    },
                    "metadata": {}
                },
                {
                    "output_type": "execute_result",
                    "metadata": {},
                    "execution_count": 5,
                    "data": {
                        "application/vnd.dataresource+json": {
                            "schema": {
                                "fields": [
                                    {
                                        "name": "SZOBA_ID"
                                    },
                                    {
                                        "name": "Db"
                                    }
                                ]
                            },
                            "data": [
                                {
                                    "SZOBA_ID": "1",
                                    "Db": "8"
                                },
                                {
                                    "SZOBA_ID": "2",
                                    "Db": "4"
                                },
                                {
                                    "SZOBA_ID": "3",
                                    "Db": "8"
                                },
                                {
                                    "SZOBA_ID": "4",
                                    "Db": "6"
                                },
                                {
                                    "SZOBA_ID": "5",
                                    "Db": "4"
                                },
                                {
                                    "SZOBA_ID": "6",
                                    "Db": "6"
                                },
                                {
                                    "SZOBA_ID": "7",
                                    "Db": "6"
                                },
                                {
                                    "SZOBA_ID": "8",
                                    "Db": "5"
                                },
                                {
                                    "SZOBA_ID": "9",
                                    "Db": "6"
                                },
                                {
                                    "SZOBA_ID": "10",
                                    "Db": "4"
                                },
                                {
                                    "SZOBA_ID": "11",
                                    "Db": "4"
                                },
                                {
                                    "SZOBA_ID": "12",
                                    "Db": "9"
                                },
                                {
                                    "SZOBA_ID": "13",
                                    "Db": "4"
                                },
                                {
                                    "SZOBA_ID": "14",
                                    "Db": "3"
                                },
                                {
                                    "SZOBA_ID": "15",
                                    "Db": "6"
                                },
                                {
                                    "SZOBA_ID": "16",
                                    "Db": "5"
                                },
                                {
                                    "SZOBA_ID": "17",
                                    "Db": "6"
                                },
                                {
                                    "SZOBA_ID": "18",
                                    "Db": "6"
                                },
                                {
                                    "SZOBA_ID": "19",
                                    "Db": "6"
                                },
                                {
                                    "SZOBA_ID": "20",
                                    "Db": "5"
                                },
                                {
                                    "SZOBA_ID": "21",
                                    "Db": "4"
                                },
                                {
                                    "SZOBA_ID": "22",
                                    "Db": "6"
                                },
                                {
                                    "SZOBA_ID": "23",
                                    "Db": "3"
                                },
                                {
                                    "SZOBA_ID": "24",
                                    "Db": "3"
                                },
                                {
                                    "SZOBA_ID": "25",
                                    "Db": "2"
                                },
                                {
                                    "SZOBA_ID": "26",
                                    "Db": "2"
                                },
                                {
                                    "SZOBA_ID": "27",
                                    "Db": "7"
                                },
                                {
                                    "SZOBA_ID": "28",
                                    "Db": "6"
                                },
                                {
                                    "SZOBA_ID": "29",
                                    "Db": "6"
                                },
                                {
                                    "SZOBA_ID": "30",
                                    "Db": "3"
                                },
                                {
                                    "SZOBA_ID": "31",
                                    "Db": "3"
                                },
                                {
                                    "SZOBA_ID": "32",
                                    "Db": "1"
                                },
                                {
                                    "SZOBA_ID": "33",
                                    "Db": "6"
                                },
                                {
                                    "SZOBA_ID": "34",
                                    "Db": "4"
                                },
                                {
                                    "SZOBA_ID": "35",
                                    "Db": "9"
                                },
                                {
                                    "SZOBA_ID": "36",
                                    "Db": "6"
                                },
                                {
                                    "SZOBA_ID": "37",
                                    "Db": "3"
                                },
                                {
                                    "SZOBA_ID": "38",
                                    "Db": "8"
                                },
                                {
                                    "SZOBA_ID": "39",
                                    "Db": "7"
                                },
                                {
                                    "SZOBA_ID": "40",
                                    "Db": "4"
                                },
                                {
                                    "SZOBA_ID": "41",
                                    "Db": "2"
                                },
                                {
                                    "SZOBA_ID": "42",
                                    "Db": "6"
                                },
                                {
                                    "SZOBA_ID": "43",
                                    "Db": "8"
                                },
                                {
                                    "SZOBA_ID": "44",
                                    "Db": "6"
                                },
                                {
                                    "SZOBA_ID": "45",
                                    "Db": "5"
                                },
                                {
                                    "SZOBA_ID": "46",
                                    "Db": "4"
                                },
                                {
                                    "SZOBA_ID": "47",
                                    "Db": "2"
                                },
                                {
                                    "SZOBA_ID": "48",
                                    "Db": "9"
                                },
                                {
                                    "SZOBA_ID": "49",
                                    "Db": "7"
                                },
                                {
                                    "SZOBA_ID": "50",
                                    "Db": "4"
                                },
                                {
                                    "SZOBA_ID": "51",
                                    "Db": "5"
                                },
                                {
                                    "SZOBA_ID": "52",
                                    "Db": "5"
                                },
                                {
                                    "SZOBA_ID": "53",
                                    "Db": "2"
                                },
                                {
                                    "SZOBA_ID": "54",
                                    "Db": "6"
                                },
                                {
                                    "SZOBA_ID": "55",
                                    "Db": "8"
                                },
                                {
                                    "SZOBA_ID": "56",
                                    "Db": "2"
                                },
                                {
                                    "SZOBA_ID": "57",
                                    "Db": "4"
                                },
                                {
                                    "SZOBA_ID": "58",
                                    "Db": "13"
                                },
                                {
                                    "SZOBA_ID": "59",
                                    "Db": "7"
                                },
                                {
                                    "SZOBA_ID": "60",
                                    "Db": "1"
                                },
                                {
                                    "SZOBA_ID": "61",
                                    "Db": "5"
                                },
                                {
                                    "SZOBA_ID": "62",
                                    "Db": "5"
                                },
                                {
                                    "SZOBA_ID": "63",
                                    "Db": "4"
                                },
                                {
                                    "SZOBA_ID": "64",
                                    "Db": "6"
                                },
                                {
                                    "SZOBA_ID": "65",
                                    "Db": "1"
                                },
                                {
                                    "SZOBA_ID": "66",
                                    "Db": "4"
                                },
                                {
                                    "SZOBA_ID": "67",
                                    "Db": "6"
                                },
                                {
                                    "SZOBA_ID": "68",
                                    "Db": "3"
                                },
                                {
                                    "SZOBA_ID": "69",
                                    "Db": "4"
                                },
                                {
                                    "SZOBA_ID": "70",
                                    "Db": "11"
                                },
                                {
                                    "SZOBA_ID": "71",
                                    "Db": "3"
                                },
                                {
                                    "SZOBA_ID": "72",
                                    "Db": "4"
                                },
                                {
                                    "SZOBA_ID": "73",
                                    "Db": "4"
                                },
                                {
                                    "SZOBA_ID": "74",
                                    "Db": "9"
                                },
                                {
                                    "SZOBA_ID": "75",
                                    "Db": "3"
                                },
                                {
                                    "SZOBA_ID": "76",
                                    "Db": "3"
                                },
                                {
                                    "SZOBA_ID": "77",
                                    "Db": "6"
                                },
                                {
                                    "SZOBA_ID": "78",
                                    "Db": "6"
                                },
                                {
                                    "SZOBA_ID": "79",
                                    "Db": "5"
                                },
                                {
                                    "SZOBA_ID": "80",
                                    "Db": "7"
                                },
                                {
                                    "SZOBA_ID": "81",
                                    "Db": "5"
                                },
                                {
                                    "SZOBA_ID": "82",
                                    "Db": "6"
                                },
                                {
                                    "SZOBA_ID": "83",
                                    "Db": "8"
                                },
                                {
                                    "SZOBA_ID": "84",
                                    "Db": "4"
                                },
                                {
                                    "SZOBA_ID": "85",
                                    "Db": "4"
                                },
                                {
                                    "SZOBA_ID": "86",
                                    "Db": "5"
                                },
                                {
                                    "SZOBA_ID": "87",
                                    "Db": "5"
                                },
                                {
                                    "SZOBA_ID": "88",
                                    "Db": "8"
                                },
                                {
                                    "SZOBA_ID": "89",
                                    "Db": "8"
                                },
                                {
                                    "SZOBA_ID": "90",
                                    "Db": "4"
                                },
                                {
                                    "SZOBA_ID": "91",
                                    "Db": "4"
                                },
                                {
                                    "SZOBA_ID": "92",
                                    "Db": "6"
                                },
                                {
                                    "SZOBA_ID": "93",
                                    "Db": "5"
                                },
                                {
                                    "SZOBA_ID": "94",
                                    "Db": "10"
                                },
                                {
                                    "SZOBA_ID": "95",
                                    "Db": "4"
                                },
                                {
                                    "SZOBA_ID": "96",
                                    "Db": "7"
                                },
                                {
                                    "SZOBA_ID": "97",
                                    "Db": "7"
                                },
                                {
                                    "SZOBA_ID": "98",
                                    "Db": "4"
                                },
                                {
                                    "SZOBA_ID": "99",
                                    "Db": "5"
                                },
                                {
                                    "SZOBA_ID": "100",
                                    "Db": "4"
                                },
                                {
                                    "SZOBA_ID": "101",
                                    "Db": "3"
                                },
                                {
                                    "SZOBA_ID": "102",
                                    "Db": "2"
                                },
                                {
                                    "SZOBA_ID": "103",
                                    "Db": "4"
                                },
                                {
                                    "SZOBA_ID": "104",
                                    "Db": "4"
                                },
                                {
                                    "SZOBA_ID": "105",
                                    "Db": "2"
                                },
                                {
                                    "SZOBA_ID": "106",
                                    "Db": "6"
                                },
                                {
                                    "SZOBA_ID": "107",
                                    "Db": "5"
                                },
                                {
                                    "SZOBA_ID": "108",
                                    "Db": "2"
                                },
                                {
                                    "SZOBA_ID": "109",
                                    "Db": "7"
                                },
                                {
                                    "SZOBA_ID": "110",
                                    "Db": "8"
                                },
                                {
                                    "SZOBA_ID": "111",
                                    "Db": "5"
                                },
                                {
                                    "SZOBA_ID": "112",
                                    "Db": "5"
                                },
                                {
                                    "SZOBA_ID": "113",
                                    "Db": "5"
                                },
                                {
                                    "SZOBA_ID": "114",
                                    "Db": "4"
                                },
                                {
                                    "SZOBA_ID": "115",
                                    "Db": "7"
                                },
                                {
                                    "SZOBA_ID": "116",
                                    "Db": "2"
                                },
                                {
                                    "SZOBA_ID": "117",
                                    "Db": "8"
                                },
                                {
                                    "SZOBA_ID": "118",
                                    "Db": "7"
                                },
                                {
                                    "SZOBA_ID": "119",
                                    "Db": "5"
                                },
                                {
                                    "SZOBA_ID": "120",
                                    "Db": "6"
                                },
                                {
                                    "SZOBA_ID": "121",
                                    "Db": "8"
                                },
                                {
                                    "SZOBA_ID": "122",
                                    "Db": "9"
                                },
                                {
                                    "SZOBA_ID": "123",
                                    "Db": "5"
                                },
                                {
                                    "SZOBA_ID": "124",
                                    "Db": "6"
                                },
                                {
                                    "SZOBA_ID": "125",
                                    "Db": "1"
                                },
                                {
                                    "SZOBA_ID": "126",
                                    "Db": "6"
                                },
                                {
                                    "SZOBA_ID": "127",
                                    "Db": "7"
                                },
                                {
                                    "SZOBA_ID": "128",
                                    "Db": "5"
                                },
                                {
                                    "SZOBA_ID": "129",
                                    "Db": "4"
                                },
                                {
                                    "SZOBA_ID": "130",
                                    "Db": "6"
                                },
                                {
                                    "SZOBA_ID": "131",
                                    "Db": "5"
                                },
                                {
                                    "SZOBA_ID": "132",
                                    "Db": "6"
                                },
                                {
                                    "SZOBA_ID": "133",
                                    "Db": "6"
                                },
                                {
                                    "SZOBA_ID": "134",
                                    "Db": "6"
                                },
                                {
                                    "SZOBA_ID": "135",
                                    "Db": "3"
                                },
                                {
                                    "SZOBA_ID": "136",
                                    "Db": "3"
                                },
                                {
                                    "SZOBA_ID": "137",
                                    "Db": "6"
                                },
                                {
                                    "SZOBA_ID": "138",
                                    "Db": "7"
                                },
                                {
                                    "SZOBA_ID": "139",
                                    "Db": "7"
                                },
                                {
                                    "SZOBA_ID": "140",
                                    "Db": "8"
                                },
                                {
                                    "SZOBA_ID": "141",
                                    "Db": "6"
                                },
                                {
                                    "SZOBA_ID": "142",
                                    "Db": "2"
                                },
                                {
                                    "SZOBA_ID": "143",
                                    "Db": "7"
                                },
                                {
                                    "SZOBA_ID": "144",
                                    "Db": "5"
                                },
                                {
                                    "SZOBA_ID": "145",
                                    "Db": "6"
                                },
                                {
                                    "SZOBA_ID": "146",
                                    "Db": "6"
                                },
                                {
                                    "SZOBA_ID": "147",
                                    "Db": "1"
                                },
                                {
                                    "SZOBA_ID": "148",
                                    "Db": "6"
                                },
                                {
                                    "SZOBA_ID": "149",
                                    "Db": "7"
                                },
                                {
                                    "SZOBA_ID": "150",
                                    "Db": "6"
                                },
                                {
                                    "SZOBA_ID": "151",
                                    "Db": "3"
                                },
                                {
                                    "SZOBA_ID": "152",
                                    "Db": "4"
                                },
                                {
                                    "SZOBA_ID": "153",
                                    "Db": "5"
                                },
                                {
                                    "SZOBA_ID": "154",
                                    "Db": "5"
                                },
                                {
                                    "SZOBA_ID": "155",
                                    "Db": "5"
                                },
                                {
                                    "SZOBA_ID": "156",
                                    "Db": "7"
                                },
                                {
                                    "SZOBA_ID": "157",
                                    "Db": "5"
                                },
                                {
                                    "SZOBA_ID": "158",
                                    "Db": "3"
                                },
                                {
                                    "SZOBA_ID": "160",
                                    "Db": "5"
                                },
                                {
                                    "SZOBA_ID": "161",
                                    "Db": "6"
                                },
                                {
                                    "SZOBA_ID": "162",
                                    "Db": "3"
                                },
                                {
                                    "SZOBA_ID": "163",
                                    "Db": "7"
                                },
                                {
                                    "SZOBA_ID": "164",
                                    "Db": "5"
                                },
                                {
                                    "SZOBA_ID": "165",
                                    "Db": "7"
                                },
                                {
                                    "SZOBA_ID": "166",
                                    "Db": "3"
                                },
                                {
                                    "SZOBA_ID": "167",
                                    "Db": "2"
                                },
                                {
                                    "SZOBA_ID": "168",
                                    "Db": "5"
                                },
                                {
                                    "SZOBA_ID": "169",
                                    "Db": "6"
                                },
                                {
                                    "SZOBA_ID": "170",
                                    "Db": "5"
                                },
                                {
                                    "SZOBA_ID": "171",
                                    "Db": "5"
                                },
                                {
                                    "SZOBA_ID": "172",
                                    "Db": "9"
                                },
                                {
                                    "SZOBA_ID": "173",
                                    "Db": "4"
                                },
                                {
                                    "SZOBA_ID": "174",
                                    "Db": "4"
                                },
                                {
                                    "SZOBA_ID": "175",
                                    "Db": "5"
                                },
                                {
                                    "SZOBA_ID": "176",
                                    "Db": "6"
                                },
                                {
                                    "SZOBA_ID": "177",
                                    "Db": "4"
                                },
                                {
                                    "SZOBA_ID": "178",
                                    "Db": "4"
                                },
                                {
                                    "SZOBA_ID": "179",
                                    "Db": "3"
                                },
                                {
                                    "SZOBA_ID": "180",
                                    "Db": "3"
                                },
                                {
                                    "SZOBA_ID": "181",
                                    "Db": "6"
                                },
                                {
                                    "SZOBA_ID": "182",
                                    "Db": "12"
                                },
                                {
                                    "SZOBA_ID": "183",
                                    "Db": "4"
                                },
                                {
                                    "SZOBA_ID": "184",
                                    "Db": "4"
                                },
                                {
                                    "SZOBA_ID": "185",
                                    "Db": "12"
                                },
                                {
                                    "SZOBA_ID": "186",
                                    "Db": "4"
                                },
                                {
                                    "SZOBA_ID": "187",
                                    "Db": "7"
                                },
                                {
                                    "SZOBA_ID": "188",
                                    "Db": "6"
                                },
                                {
                                    "SZOBA_ID": "189",
                                    "Db": "5"
                                },
                                {
                                    "SZOBA_ID": "190",
                                    "Db": "5"
                                },
                                {
                                    "SZOBA_ID": "191",
                                    "Db": "5"
                                },
                                {
                                    "SZOBA_ID": "192",
                                    "Db": "2"
                                },
                                {
                                    "SZOBA_ID": "193",
                                    "Db": "7"
                                },
                                {
                                    "SZOBA_ID": "194",
                                    "Db": "1"
                                },
                                {
                                    "SZOBA_ID": "195",
                                    "Db": "6"
                                },
                                {
                                    "SZOBA_ID": "196",
                                    "Db": "4"
                                },
                                {
                                    "SZOBA_ID": "197",
                                    "Db": "6"
                                },
                                {
                                    "SZOBA_ID": "198",
                                    "Db": "8"
                                }
                            ]
                        },
                        "text/html": [
                            "<table>",
                            "<tr><th>SZOBA_ID</th><th>Db</th></tr>",
                            "<tr><td>1</td><td>8</td></tr>",
                            "<tr><td>2</td><td>4</td></tr>",
                            "<tr><td>3</td><td>8</td></tr>",
                            "<tr><td>4</td><td>6</td></tr>",
                            "<tr><td>5</td><td>4</td></tr>",
                            "<tr><td>6</td><td>6</td></tr>",
                            "<tr><td>7</td><td>6</td></tr>",
                            "<tr><td>8</td><td>5</td></tr>",
                            "<tr><td>9</td><td>6</td></tr>",
                            "<tr><td>10</td><td>4</td></tr>",
                            "<tr><td>11</td><td>4</td></tr>",
                            "<tr><td>12</td><td>9</td></tr>",
                            "<tr><td>13</td><td>4</td></tr>",
                            "<tr><td>14</td><td>3</td></tr>",
                            "<tr><td>15</td><td>6</td></tr>",
                            "<tr><td>16</td><td>5</td></tr>",
                            "<tr><td>17</td><td>6</td></tr>",
                            "<tr><td>18</td><td>6</td></tr>",
                            "<tr><td>19</td><td>6</td></tr>",
                            "<tr><td>20</td><td>5</td></tr>",
                            "<tr><td>21</td><td>4</td></tr>",
                            "<tr><td>22</td><td>6</td></tr>",
                            "<tr><td>23</td><td>3</td></tr>",
                            "<tr><td>24</td><td>3</td></tr>",
                            "<tr><td>25</td><td>2</td></tr>",
                            "<tr><td>26</td><td>2</td></tr>",
                            "<tr><td>27</td><td>7</td></tr>",
                            "<tr><td>28</td><td>6</td></tr>",
                            "<tr><td>29</td><td>6</td></tr>",
                            "<tr><td>30</td><td>3</td></tr>",
                            "<tr><td>31</td><td>3</td></tr>",
                            "<tr><td>32</td><td>1</td></tr>",
                            "<tr><td>33</td><td>6</td></tr>",
                            "<tr><td>34</td><td>4</td></tr>",
                            "<tr><td>35</td><td>9</td></tr>",
                            "<tr><td>36</td><td>6</td></tr>",
                            "<tr><td>37</td><td>3</td></tr>",
                            "<tr><td>38</td><td>8</td></tr>",
                            "<tr><td>39</td><td>7</td></tr>",
                            "<tr><td>40</td><td>4</td></tr>",
                            "<tr><td>41</td><td>2</td></tr>",
                            "<tr><td>42</td><td>6</td></tr>",
                            "<tr><td>43</td><td>8</td></tr>",
                            "<tr><td>44</td><td>6</td></tr>",
                            "<tr><td>45</td><td>5</td></tr>",
                            "<tr><td>46</td><td>4</td></tr>",
                            "<tr><td>47</td><td>2</td></tr>",
                            "<tr><td>48</td><td>9</td></tr>",
                            "<tr><td>49</td><td>7</td></tr>",
                            "<tr><td>50</td><td>4</td></tr>",
                            "<tr><td>51</td><td>5</td></tr>",
                            "<tr><td>52</td><td>5</td></tr>",
                            "<tr><td>53</td><td>2</td></tr>",
                            "<tr><td>54</td><td>6</td></tr>",
                            "<tr><td>55</td><td>8</td></tr>",
                            "<tr><td>56</td><td>2</td></tr>",
                            "<tr><td>57</td><td>4</td></tr>",
                            "<tr><td>58</td><td>13</td></tr>",
                            "<tr><td>59</td><td>7</td></tr>",
                            "<tr><td>60</td><td>1</td></tr>",
                            "<tr><td>61</td><td>5</td></tr>",
                            "<tr><td>62</td><td>5</td></tr>",
                            "<tr><td>63</td><td>4</td></tr>",
                            "<tr><td>64</td><td>6</td></tr>",
                            "<tr><td>65</td><td>1</td></tr>",
                            "<tr><td>66</td><td>4</td></tr>",
                            "<tr><td>67</td><td>6</td></tr>",
                            "<tr><td>68</td><td>3</td></tr>",
                            "<tr><td>69</td><td>4</td></tr>",
                            "<tr><td>70</td><td>11</td></tr>",
                            "<tr><td>71</td><td>3</td></tr>",
                            "<tr><td>72</td><td>4</td></tr>",
                            "<tr><td>73</td><td>4</td></tr>",
                            "<tr><td>74</td><td>9</td></tr>",
                            "<tr><td>75</td><td>3</td></tr>",
                            "<tr><td>76</td><td>3</td></tr>",
                            "<tr><td>77</td><td>6</td></tr>",
                            "<tr><td>78</td><td>6</td></tr>",
                            "<tr><td>79</td><td>5</td></tr>",
                            "<tr><td>80</td><td>7</td></tr>",
                            "<tr><td>81</td><td>5</td></tr>",
                            "<tr><td>82</td><td>6</td></tr>",
                            "<tr><td>83</td><td>8</td></tr>",
                            "<tr><td>84</td><td>4</td></tr>",
                            "<tr><td>85</td><td>4</td></tr>",
                            "<tr><td>86</td><td>5</td></tr>",
                            "<tr><td>87</td><td>5</td></tr>",
                            "<tr><td>88</td><td>8</td></tr>",
                            "<tr><td>89</td><td>8</td></tr>",
                            "<tr><td>90</td><td>4</td></tr>",
                            "<tr><td>91</td><td>4</td></tr>",
                            "<tr><td>92</td><td>6</td></tr>",
                            "<tr><td>93</td><td>5</td></tr>",
                            "<tr><td>94</td><td>10</td></tr>",
                            "<tr><td>95</td><td>4</td></tr>",
                            "<tr><td>96</td><td>7</td></tr>",
                            "<tr><td>97</td><td>7</td></tr>",
                            "<tr><td>98</td><td>4</td></tr>",
                            "<tr><td>99</td><td>5</td></tr>",
                            "<tr><td>100</td><td>4</td></tr>",
                            "<tr><td>101</td><td>3</td></tr>",
                            "<tr><td>102</td><td>2</td></tr>",
                            "<tr><td>103</td><td>4</td></tr>",
                            "<tr><td>104</td><td>4</td></tr>",
                            "<tr><td>105</td><td>2</td></tr>",
                            "<tr><td>106</td><td>6</td></tr>",
                            "<tr><td>107</td><td>5</td></tr>",
                            "<tr><td>108</td><td>2</td></tr>",
                            "<tr><td>109</td><td>7</td></tr>",
                            "<tr><td>110</td><td>8</td></tr>",
                            "<tr><td>111</td><td>5</td></tr>",
                            "<tr><td>112</td><td>5</td></tr>",
                            "<tr><td>113</td><td>5</td></tr>",
                            "<tr><td>114</td><td>4</td></tr>",
                            "<tr><td>115</td><td>7</td></tr>",
                            "<tr><td>116</td><td>2</td></tr>",
                            "<tr><td>117</td><td>8</td></tr>",
                            "<tr><td>118</td><td>7</td></tr>",
                            "<tr><td>119</td><td>5</td></tr>",
                            "<tr><td>120</td><td>6</td></tr>",
                            "<tr><td>121</td><td>8</td></tr>",
                            "<tr><td>122</td><td>9</td></tr>",
                            "<tr><td>123</td><td>5</td></tr>",
                            "<tr><td>124</td><td>6</td></tr>",
                            "<tr><td>125</td><td>1</td></tr>",
                            "<tr><td>126</td><td>6</td></tr>",
                            "<tr><td>127</td><td>7</td></tr>",
                            "<tr><td>128</td><td>5</td></tr>",
                            "<tr><td>129</td><td>4</td></tr>",
                            "<tr><td>130</td><td>6</td></tr>",
                            "<tr><td>131</td><td>5</td></tr>",
                            "<tr><td>132</td><td>6</td></tr>",
                            "<tr><td>133</td><td>6</td></tr>",
                            "<tr><td>134</td><td>6</td></tr>",
                            "<tr><td>135</td><td>3</td></tr>",
                            "<tr><td>136</td><td>3</td></tr>",
                            "<tr><td>137</td><td>6</td></tr>",
                            "<tr><td>138</td><td>7</td></tr>",
                            "<tr><td>139</td><td>7</td></tr>",
                            "<tr><td>140</td><td>8</td></tr>",
                            "<tr><td>141</td><td>6</td></tr>",
                            "<tr><td>142</td><td>2</td></tr>",
                            "<tr><td>143</td><td>7</td></tr>",
                            "<tr><td>144</td><td>5</td></tr>",
                            "<tr><td>145</td><td>6</td></tr>",
                            "<tr><td>146</td><td>6</td></tr>",
                            "<tr><td>147</td><td>1</td></tr>",
                            "<tr><td>148</td><td>6</td></tr>",
                            "<tr><td>149</td><td>7</td></tr>",
                            "<tr><td>150</td><td>6</td></tr>",
                            "<tr><td>151</td><td>3</td></tr>",
                            "<tr><td>152</td><td>4</td></tr>",
                            "<tr><td>153</td><td>5</td></tr>",
                            "<tr><td>154</td><td>5</td></tr>",
                            "<tr><td>155</td><td>5</td></tr>",
                            "<tr><td>156</td><td>7</td></tr>",
                            "<tr><td>157</td><td>5</td></tr>",
                            "<tr><td>158</td><td>3</td></tr>",
                            "<tr><td>160</td><td>5</td></tr>",
                            "<tr><td>161</td><td>6</td></tr>",
                            "<tr><td>162</td><td>3</td></tr>",
                            "<tr><td>163</td><td>7</td></tr>",
                            "<tr><td>164</td><td>5</td></tr>",
                            "<tr><td>165</td><td>7</td></tr>",
                            "<tr><td>166</td><td>3</td></tr>",
                            "<tr><td>167</td><td>2</td></tr>",
                            "<tr><td>168</td><td>5</td></tr>",
                            "<tr><td>169</td><td>6</td></tr>",
                            "<tr><td>170</td><td>5</td></tr>",
                            "<tr><td>171</td><td>5</td></tr>",
                            "<tr><td>172</td><td>9</td></tr>",
                            "<tr><td>173</td><td>4</td></tr>",
                            "<tr><td>174</td><td>4</td></tr>",
                            "<tr><td>175</td><td>5</td></tr>",
                            "<tr><td>176</td><td>6</td></tr>",
                            "<tr><td>177</td><td>4</td></tr>",
                            "<tr><td>178</td><td>4</td></tr>",
                            "<tr><td>179</td><td>3</td></tr>",
                            "<tr><td>180</td><td>3</td></tr>",
                            "<tr><td>181</td><td>6</td></tr>",
                            "<tr><td>182</td><td>12</td></tr>",
                            "<tr><td>183</td><td>4</td></tr>",
                            "<tr><td>184</td><td>4</td></tr>",
                            "<tr><td>185</td><td>12</td></tr>",
                            "<tr><td>186</td><td>4</td></tr>",
                            "<tr><td>187</td><td>7</td></tr>",
                            "<tr><td>188</td><td>6</td></tr>",
                            "<tr><td>189</td><td>5</td></tr>",
                            "<tr><td>190</td><td>5</td></tr>",
                            "<tr><td>191</td><td>5</td></tr>",
                            "<tr><td>192</td><td>2</td></tr>",
                            "<tr><td>193</td><td>7</td></tr>",
                            "<tr><td>194</td><td>1</td></tr>",
                            "<tr><td>195</td><td>6</td></tr>",
                            "<tr><td>196</td><td>4</td></tr>",
                            "<tr><td>197</td><td>6</td></tr>",
                            "<tr><td>198</td><td>8</td></tr>",
                            "</table>"
                        ]
                    }
                }
            ],
            "execution_count": 5
        },
        {
            "cell_type": "code",
            "source": [
                "--MÁSODIK FELADAT\r\n",
                "SELECT *\r\n",
                "FROM Vendeg\r\n",
                "WHERE USERNEV IN\r\n",
                "(\r\n",
                "    SELECT v.USERNEV\r\n",
                "    FROM Vendeg v JOIN Foglalas f ON v.USERNEV=f.UGYFEL_FK\r\n",
                "                JOIN Szoba sz ON f.SZOBA_FK = sz.SZOBA_ID\r\n",
                "    WHERE sz.FEROHELY = 4 AND sz.KLIMAS = 'i'\r\n",
                "    \r\n",
                ")"
            ],
            "metadata": {
                "azdata_cell_guid": "05339894-f29f-4039-a890-affcbaf3c6a8",
                "language": "sql"
            },
            "outputs": [
                {
                    "output_type": "display_data",
                    "data": {
                        "text/html": "(3 rows affected)"
                    },
                    "metadata": {}
                },
                {
                    "output_type": "display_data",
                    "data": {
                        "text/html": "Total execution time: 00:00:00.024"
                    },
                    "metadata": {}
                },
                {
                    "output_type": "execute_result",
                    "metadata": {},
                    "execution_count": 12,
                    "data": {
                        "application/vnd.dataresource+json": {
                            "schema": {
                                "fields": [
                                    {
                                        "name": "USERNEV"
                                    },
                                    {
                                        "name": "NEV"
                                    },
                                    {
                                        "name": "EMAIL"
                                    },
                                    {
                                        "name": "SZAML_CIM"
                                    },
                                    {
                                        "name": "SZUL_DAT"
                                    }
                                ]
                            },
                            "data": [
                                {
                                    "USERNEV": "JOZSEFG",
                                    "NEV": "Gyuris József",
                                    "EMAIL": "józsef.gyuris@mail.hu",
                                    "SZAML_CIM": "2660 Balassagyarmat Petőfi utca 1/2.",
                                    "SZUL_DAT": "1975-05-26"
                                },
                                {
                                    "USERNEV": "PETERB",
                                    "NEV": "Berendi Péter",
                                    "EMAIL": "péter.berendi@mail.hu",
                                    "SZAML_CIM": "3980 Sátoraljaújhely Vasút utca 4/10.",
                                    "SZUL_DAT": "1969-01-01"
                                },
                                {
                                    "USERNEV": "tunde",
                                    "NEV": "Turcsik Tünde",
                                    "EMAIL": "tunde@gmail.com",
                                    "SZAML_CIM": "7130 Tolna Fő út 122.",
                                    "SZUL_DAT": "1974-02-12"
                                }
                            ]
                        },
                        "text/html": [
                            "<table>",
                            "<tr><th>USERNEV</th><th>NEV</th><th>EMAIL</th><th>SZAML_CIM</th><th>SZUL_DAT</th></tr>",
                            "<tr><td>JOZSEFG</td><td>Gyuris József</td><td>józsef.gyuris@mail.hu</td><td>2660 Balassagyarmat Petőfi utca 1/2.</td><td>1975-05-26</td></tr>",
                            "<tr><td>PETERB</td><td>Berendi Péter</td><td>péter.berendi@mail.hu</td><td>3980 Sátoraljaújhely Vasút utca 4/10.</td><td>1969-01-01</td></tr>",
                            "<tr><td>tunde</td><td>Turcsik Tünde</td><td>tunde@gmail.com</td><td>7130 Tolna Fő út 122.</td><td>1974-02-12</td></tr>",
                            "</table>"
                        ]
                    }
                }
            ],
            "execution_count": 12
        },
        {
            "cell_type": "markdown",
            "source": [
                "HATODIK FELADAT\n",
                "\n",
                "<span style=\"color: rgb(181, 182, 192); font-family: Inconsolata; font-weight: 700; white-space: pre-line; background-color: rgb(23, 23, 23);\">SET konyvtar 'Corvinus konyvtar'</span>  \n",
                "\n",
                "<span style=\"color: rgb(181, 182, 192); font-family: Inconsolata; font-weight: 700; white-space: pre-line; background-color: rgb(23, 23, 23);\">HSET konyv:1 cim 'A darts mesterei' iro 'Raymond Van Barneveld' kiadas_eve 2009</span><span style=\"color: rgb(181, 182, 192); font-family: Inconsolata; font-weight: 700; white-space: pre-line; background-color: rgb(23, 23, 23);\"><br></span>\n",
                "\n",
                "<span class=\"cli-command-wrapper\" data-testid=\"cli-command-wrapper\" style=\"box-sizing: border-box; margin: 0px; padding: 0px; border: none; vertical-align: baseline; white-space: pre-line; font-family: Inconsolata; color: rgb(181, 182, 192); background-color: rgb(23, 23, 23); font-variant-numeric: normal !important; font-variant-east-asian: normal !important; font-kerning: auto !important; font-optical-sizing: auto !important; font-feature-settings: normal !important; font-variation-settings: normal !important; font-weight: bold !important; font-stretch: normal !important; line-height: 15px !important;\">SADD mufaj 'sport' 'horror' 'fantasy'</span><span style=\"color: rgb(181, 182, 192); font-family: Inconsolata; font-weight: 700; white-space: pre-line; background-color: rgb(23, 23, 23);\"><br></span>\n",
                "\n",
                "<span style=\"color: rgb(181, 182, 192); font-family: Inconsolata; font-weight: 700; white-space: pre-line; background-color: rgb(23, 23, 23);\">RPUSH kikolcsonzott 'A darts mesterei' 'A haz' 'Harry Potter es a bolcsek kove'</span>\n",
                "\n",
                "<span style=\"color: rgb(181, 182, 192); font-family: Inconsolata; font-weight: 700; white-space: pre-line; background-color: rgb(23, 23, 23);\">ZADD kolcs_szam 3 'A darts mesterei' 2 'A haz' 5 'Harry Potter es a bolcsek kove'</span><span style=\"color: rgb(181, 182, 192); font-family: Inconsolata; font-weight: 700; white-space: pre-line; background-color: rgb(23, 23, 23);\"><br></span>\n",
                "\n",
                "<span style=\"color: rgb(181, 182, 192); font-family: Inconsolata; font-weight: 700; white-space: pre-line; background-color: rgb(23, 23, 23);\"><br></span>"
            ],
            "metadata": {
                "azdata_cell_guid": "0e17084d-d45a-492e-80c6-f54300291b45"
            },
            "attachments": {}
        },
        {
            "cell_type": "markdown",
            "source": [
                "CREATE TABLE STUDENT\n",
                "\n",
                "            ... (\n",
                "\n",
                "            ... ID int,\n",
                "\n",
                "            ... Nev TEXT,\n",
                "\n",
                "            ... Teljesitett\\_felevek LIST\\<INT\\>,\n",
                "\n",
                "            ... Eredmenyek MAP\\<INT, DOUBLE\\>,\n",
                "\n",
                "            ... Nyelvtudas SET\\<TEXT\\>,\n",
                "\n",
                "            ... PRIMARY KEY(ID)\n",
                "\n",
                "            ... );"
            ],
            "metadata": {
                "azdata_cell_guid": "a96f1624-b7e4-4423-b18c-c80f9eeea9ce"
            },
            "attachments": {}
        },
        {
            "cell_type": "code",
            "source": [
                "--HARMADIK FELADAT\r\n",
                "--Készítsen lekérdezést, amely sorszámozza a vendégeket a foglalások száma alapján\r\n",
                "\r\n",
                "--A sorszám mellett jelenjen meg a vendég azonosítója, neve és a foglalások száma is\r\n",
                "--A legtöbbet foglaló vendég kapja az egyes sorszámot\r\n",
                "--Holtverseny esetén a számozás annyit ugorjon, ahány egyforma érték van\r\n",
                "\r\n",
                "SELECT ROW_NUMBER() OVER(ORDER BY ),\r\n",
                "\r\n",
                "FROM Vendeg v JOIN Foglalas f ON v.USERNEV = f.UGYFEL_FK"
            ],
            "metadata": {
                "azdata_cell_guid": "96d0f98a-2a51-440f-bd00-73e256421381",
                "language": "sql"
            },
            "outputs": [],
            "execution_count": null
        },
        {
            "cell_type": "code",
            "source": [
                "--NEGYEDIK FELADAT\r\n",
                "--Jelenítsük meg, hogy hány foglalás történt szobánként, naponta (METTOL), valamint szobánként, azon belül naponta \r\n",
                "\r\n",
                "--Szempontonként külön-külön számoljuk a foglalásokat\r\n",
                "--A foglalások száma minden esetben legalább 2 legyen\r\n",
                "\r\n",
                "SELECT  sz.SZOBA_ID AS 'Szobánként',\r\n",
                "        f.METTOL AS 'Naponként',\r\n",
                "        COUNT(*) AS 'Db'\r\n",
                "FROM Szoba sz JOIN Foglalas f ON sz.SZOBA_ID = f.SZOBA_FK \r\n",
                "GROUP BY ROLLUP(sz.SZOBA_ID, f.METTOL, (sz.SZOBA_ID, f.METTOL))\r\n",
                "HAVING COUNT(*) >= 2"
            ],
            "metadata": {
                "azdata_cell_guid": "6cd8fa6f-2b94-4e3b-b8dd-cdae46cfce03",
                "language": "sql",
                "tags": []
            },
            "outputs": [
                {
                    "output_type": "error",
                    "evalue": "Msg 144, Level 15, State 1, Line 11\r\nCannot use an aggregate or a subquery in an expression used for the group by list of a GROUP BY clause.",
                    "ename": "",
                    "traceback": []
                },
                {
                    "output_type": "display_data",
                    "data": {
                        "text/html": "Total execution time: 00:00:00.002"
                    },
                    "metadata": {}
                }
            ],
            "execution_count": 30
        },
        {
            "cell_type": "code",
            "source": [
                "--ÖTÖDIK FELADAT\r\n",
                "--Készítsünk ideiglenes táblát #MASKED_GUEST néven, ahol \r\n",
                "\r\n",
                "--a tábla felépítése megegyezik a vendég tábláéval, DE\r\n",
                "--a vendégek nevének csak az első 2, és az utolsó 3 karaktere jelenjen meg, közötte X-ek legyenek!\r\n",
                "\r\n",
                "CREATE TABLE #MASKED_GUEST\r\n",
                "(\r\n",
                "    USERNEV NVARCHAR(20) PRIMARY KEY,\r\n",
                "    NEV NVARCHAR(50) MASKED WITH(FUNCTION = 'partial(2, \"X\", 3)'),\r\n",
                "    EMAIL NVARCHAR(60),\r\n",
                "    SZAML_CIM NVARCHAR(100),\r\n",
                "    SZUL_DAT DATE\r\n",
                ")"
            ],
            "metadata": {
                "azdata_cell_guid": "a0bcffce-7a9f-4975-ba4a-38da88d5fb8c",
                "language": "sql"
            },
            "outputs": [],
            "execution_count": null
        }
    ]
}