{
    "metadata": {
        "kernelspec": {
            "name": "SQL",
            "display_name": "SQL",
            "language": "sql"
        },
        "language_info": {
            "name": "sql",
            "version": ""
        }
    },
    "nbformat_minor": 2,
    "nbformat": 4,
    "cells": [
        {
            "cell_type": "markdown",
            "source": [
                "Ebben a részben csak gyakorolok."
            ],
            "metadata": {
                "azdata_cell_guid": "bcba17c1-dbe0-4b71-8cb9-60ac266f1cb2"
            },
            "attachments": {}
        }
    ]
}